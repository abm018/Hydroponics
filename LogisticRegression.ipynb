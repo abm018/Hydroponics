{
  "nbformat": 4,
  "nbformat_minor": 0,
  "metadata": {
    "colab": {
      "provenance": [],
      "include_colab_link": true
    },
    "kernelspec": {
      "name": "python3",
      "display_name": "Python 3"
    },
    "language_info": {
      "name": "python"
    }
  },
  "cells": [
    {
      "cell_type": "markdown",
      "metadata": {
        "id": "view-in-github",
        "colab_type": "text"
      },
      "source": [
        "<a href=\"https://colab.research.google.com/github/abm018/Hydroponics/blob/main/LogisticRegression.ipynb\" target=\"_parent\"><img src=\"https://colab.research.google.com/assets/colab-badge.svg\" alt=\"Open In Colab\"/></a>"
      ]
    },
    {
      "cell_type": "markdown",
      "source": [
        "In this updated code, I've made changes such as adjusting the hyperparameters, handling class imbalance using class_weight='balanced', and providing a more detailed evaluation of the model's performance. Additionally, I've used the fit_transform method for scaling and modified the way new predictions are made. Adjust these changes based on your specific dataset and requirements."
      ],
      "metadata": {
        "id": "IYO_MN452y8o"
      }
    },
    {
      "cell_type": "code",
      "execution_count": null,
      "metadata": {
        "colab": {
          "base_uri": "https://localhost:8080/"
        },
        "id": "7z4x6vjt15A-",
        "outputId": "028a280d-5f0c-40d8-c066-edab7169dacf"
      },
      "outputs": [
        {
          "output_type": "stream",
          "name": "stdout",
          "text": [
            "Accuracy: 0.6333333333333333\n",
            "Precision: 0.5865532266546465\n",
            "F1 Score: 0.6011853611853611\n",
            "Prediction for new input: [26]\n"
          ]
        },
        {
          "output_type": "stream",
          "name": "stderr",
          "text": [
            "/usr/local/lib/python3.10/dist-packages/sklearn/metrics/_classification.py:1344: UndefinedMetricWarning: Precision is ill-defined and being set to 0.0 in labels with no predicted samples. Use `zero_division` parameter to control this behavior.\n",
            "  _warn_prf(average, modifier, msg_start, len(result))\n"
          ]
        }
      ],
      "source": [
        "import pandas as pd\n",
        "import numpy as np\n",
        "from sklearn.model_selection import train_test_split\n",
        "from sklearn.linear_model import LogisticRegression\n",
        "from sklearn.metrics import accuracy_score, precision_score, f1_score\n",
        "from sklearn.preprocessing import StandardScaler, LabelEncoder\n",
        "\n",
        "# Load the dataset\n",
        "ds = pd.read_csv('/content/N-Uptake_augmented.csv')\n",
        "\n",
        "# Separate features and target variable\n",
        "x = ds.drop(columns=' y')\n",
        "y = ds[' y']\n",
        "\n",
        "# Standardize features\n",
        "scaler = StandardScaler()\n",
        "x = scaler.fit_transform(x)\n",
        "\n",
        "# Encode the target variable\n",
        "encoder = LabelEncoder()\n",
        "y = encoder.fit_transform(y)\n",
        "\n",
        "# Split the data\n",
        "x_train, x_test, y_train, y_test = train_test_split(x, y, test_size=0.2, random_state=2)\n",
        "\n",
        "# Initialize the Logistic Regression model with different hyperparameters\n",
        "model = LogisticRegression(max_iter=2000, random_state=2, class_weight='balanced')\n",
        "\n",
        "# Train the model\n",
        "model.fit(x_train, y_train)\n",
        "\n",
        "# Make predictions\n",
        "y_pred = model.predict(x_test)\n",
        "\n",
        "# Evaluate the model\n",
        "model_score = accuracy_score(y_test, y_pred)\n",
        "precision = precision_score(y_test, y_pred, average='weighted')\n",
        "f1 = f1_score(y_test, y_pred, average='weighted')\n",
        "\n",
        "print(f\"Accuracy: {model_score}\")\n",
        "print(f\"Precision: {precision}\")\n",
        "print(f\"F1 Score: {f1}\")\n",
        "\n",
        "# Test with a new input\n",
        "input_data = np.array([2.74418604651162]).reshape(1, -1)\n",
        "new_prediction = model.predict(input_data)\n",
        "print(f\"Prediction for new input: {new_prediction}\")\n"
      ]
    }
  ]
}